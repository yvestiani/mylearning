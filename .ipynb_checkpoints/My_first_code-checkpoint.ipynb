{
 "cells": [
  {
   "cell_type": "markdown",
   "id": "8e190e55",
   "metadata": {},
   "source": [
    "Round up"
   ]
  },
  {
   "cell_type": "code",
   "execution_count": null,
   "id": "108f4dad",
   "metadata": {},
   "outputs": [],
   "source": [
    "round (19.9499959* 28.99, 2)\n",
    "578.35"
   ]
  },
  {
   "cell_type": "markdown",
   "id": "d12f2985",
   "metadata": {},
   "source": [
    "/**Variable assignment**/"
   ]
  },
  {
   "cell_type": "code",
   "execution_count": 61,
   "id": "d673d3d8",
   "metadata": {},
   "outputs": [
    {
     "data": {
      "text/plain": [
       "int"
      ]
     },
     "execution_count": 61,
     "metadata": {},
     "output_type": "execute_result"
    }
   ],
   "source": [
    "w=10\n",
    "type(w)\n"
   ]
  },
  {
   "cell_type": "markdown",
   "id": "97ac977b",
   "metadata": {},
   "source": []
  }
 ],
 "metadata": {
  "kernelspec": {
   "display_name": "Python 3 (ipykernel)",
   "language": "python",
   "name": "python3"
  },
  "language_info": {
   "codemirror_mode": {
    "name": "ipython",
    "version": 3
   },
   "file_extension": ".py",
   "mimetype": "text/x-python",
   "name": "python",
   "nbconvert_exporter": "python",
   "pygments_lexer": "ipython3",
   "version": "3.9.7"
  }
 },
 "nbformat": 4,
 "nbformat_minor": 5
}
