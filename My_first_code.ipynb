{
 "cells": [
  {
   "cell_type": "markdown",
   "id": "c4c9057d",
   "metadata": {},
   "source": [
    "Round up"
   ]
  },
  {
   "cell_type": "code",
   "execution_count": null,
   "id": "6e0bf1e1",
   "metadata": {},
   "outputs": [],
   "source": [
    "round (19.9499959* 28.99, 2)\n",
    "578.35"
   ]
  },
  {
   "cell_type": "markdown",
   "id": "7411536a",
   "metadata": {},
   "source": [
    "/**Variable assignment**/"
   ]
  },
  {
   "cell_type": "code",
   "execution_count": 47,
   "id": "adca59f7",
   "metadata": {},
   "outputs": [
    {
     "data": {
      "text/plain": [
       "int"
      ]
     },
     "execution_count": 47,
     "metadata": {},
     "output_type": "execute_result"
    }
   ],
   "source": [
    "w=10\n",
    "type(w)"
   ]
  },
  {
   "cell_type": "markdown",
   "id": "6dd1503a",
   "metadata": {},
   "source": [
    "Slice and indexing a string. In this exemple below, (phrase[11:13]) means get string from the 11 index to the 13 index "
   ]
  },
  {
   "cell_type": "code",
   "execution_count": 43,
   "id": "f12cb5a6",
   "metadata": {},
   "outputs": [
    {
     "name": "stdout",
     "output_type": "stream",
     "text": [
      "Ighave an \n",
      "automobile\n"
     ]
    }
   ],
   "source": [
    "phrase = \"Ighave an \\nautomobile\"\n",
    "# phrase =\"P\"\n",
    "print (phrase)"
   ]
  },
  {
   "cell_type": "code",
   "execution_count": 44,
   "id": "fdffa41b",
   "metadata": {},
   "outputs": [
    {
     "name": "stdout",
     "output_type": "stream",
     "text": [
      "ave a\n"
     ]
    }
   ],
   "source": [
    "print (phrase[3:-13])"
   ]
  },
  {
   "cell_type": "code",
   "execution_count": 49,
   "id": "ab547032",
   "metadata": {},
   "outputs": [
    {
     "name": "stdout",
     "output_type": "stream",
     "text": [
      "Ia  umi\n"
     ]
    }
   ],
   "source": [
    "print (phrase[::3])"
   ]
  },
  {
   "cell_type": "markdown",
   "id": "99b113c9",
   "metadata": {},
   "source": [
    "Different print Formats "
   ]
  },
  {
   "cell_type": "code",
   "execution_count": 94,
   "id": "1549eff4",
   "metadata": {},
   "outputs": [
    {
     "name": "stdout",
     "output_type": "stream",
     "text": [
      "3 banana is 100f\n",
      "0.129\n",
      "3.00 banana is 100f\n"
     ]
    }
   ],
   "source": [
    "a = 'banana'\n",
    "b = 3\n",
    "d = \"is 100f\"\n",
    "\n",
    "# Using float\n",
    "c  = 100/777\n",
    "\n",
    "# \n",
    "print ('{0} {1} {2}'.format (b,a,d))\n",
    "print ('{0:.3f}'.format (c))\n",
    "print (f'{b:2.2f} {a} {d}')"
   ]
  },
  {
   "cell_type": "markdown",
   "id": "d0c3dc19",
   "metadata": {},
   "source": [
    "Work with Lists"
   ]
  },
  {
   "cell_type": "code",
   "execution_count": 117,
   "id": "4a56fa10",
   "metadata": {},
   "outputs": [
    {
     "data": {
      "text/plain": [
       "[4, 'five', 6, 'seven']"
      ]
     },
     "execution_count": 117,
     "metadata": {},
     "output_type": "execute_result"
    }
   ],
   "source": [
    "list_01 = [\"one\", \"two\", \"tree\"]\n",
    "\n",
    "# Indexing\n",
    "list_01[1]\n",
    "\n",
    "# Concatenation\n",
    "list_02 = [4, \"five\", 6, \"seven\"];\n",
    "\n",
    "list_concat = list_01 + list_02\n",
    "list_concat\n",
    "\n",
    "# Slicing\n",
    "list_concat[3:]"
   ]
  }
 ],
 "metadata": {
  "kernelspec": {
   "display_name": "Python 3 (ipykernel)",
   "language": "python",
   "name": "python3"
  },
  "language_info": {
   "codemirror_mode": {
    "name": "ipython",
    "version": 3
   },
   "file_extension": ".py",
   "mimetype": "text/x-python",
   "name": "python",
   "nbconvert_exporter": "python",
   "pygments_lexer": "ipython3",
   "version": "3.9.7"
  }
 },
 "nbformat": 4,
 "nbformat_minor": 5
}
