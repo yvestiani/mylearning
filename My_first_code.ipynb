{
 "cells": [
  {
   "cell_type": "markdown",
   "id": "c4c9057d",
   "metadata": {},
   "source": [
    "Round up"
   ]
  },
  {
   "cell_type": "code",
   "execution_count": null,
   "id": "6e0bf1e1",
   "metadata": {},
   "outputs": [],
   "source": [
    "round (19.9499959* 28.99, 2)\n",
    "578.35"
   ]
  },
  {
   "cell_type": "markdown",
   "id": "7411536a",
   "metadata": {},
   "source": [
    "/**Variable assignment**/"
   ]
  },
  {
   "cell_type": "code",
   "execution_count": 61,
   "id": "adca59f7",
   "metadata": {},
   "outputs": [
    {
     "data": {
      "text/plain": [
       "int"
      ]
     },
     "execution_count": 61,
     "metadata": {},
     "output_type": "execute_result"
    }
   ],
   "source": [
    "w=10\n",
    "type(w)"
   ]
  },
  {
   "cell_type": "markdown",
   "id": "6dd1503a",
   "metadata": {},
   "source": [
    "Slice and indexing a string. In this exemple below, (phrase[11:13]) means get string from the 11 index to the 13 index \n",
    "This exemple (phrase[::4]) will step in the string every 4 time."
   ]
  },
  {
   "cell_type": "code",
   "execution_count": 13,
   "id": "f12cb5a6",
   "metadata": {},
   "outputs": [
    {
     "name": "stdout",
     "output_type": "stream",
     "text": [
      "Ighave an automobile\n"
     ]
    }
   ],
   "source": [
    "phrase = \"Ighave an automobile\"\n",
    "print (phrase)"
   ]
  },
  {
   "cell_type": "code",
   "execution_count": 15,
   "id": "fdffa41b",
   "metadata": {},
   "outputs": [
    {
     "name": "stdout",
     "output_type": "stream",
     "text": [
      "ave a\n"
     ]
    }
   ],
   "source": [
    "print (phrase[3:-13])"
   ]
  },
  {
   "cell_type": "code",
   "execution_count": 14,
   "id": "f876fc37",
   "metadata": {},
   "outputs": [
    {
     "name": "stdout",
     "output_type": "stream",
     "text": [
      "Ivntb\n"
     ]
    }
   ],
   "source": [
    "print (phrase[::4])"
   ]
  },
  {
   "cell_type": "code",
   "execution_count": null,
   "id": "18a6883c",
   "metadata": {},
   "outputs": [],
   "source": []
  }
 ],
 "metadata": {
  "kernelspec": {
   "display_name": "Python 3 (ipykernel)",
   "language": "python",
   "name": "python3"
  },
  "language_info": {
   "codemirror_mode": {
    "name": "ipython",
    "version": 3
   },
   "file_extension": ".py",
   "mimetype": "text/x-python",
   "name": "python",
   "nbconvert_exporter": "python",
   "pygments_lexer": "ipython3",
   "version": "3.9.7"
  }
 },
 "nbformat": 4,
 "nbformat_minor": 5
}
